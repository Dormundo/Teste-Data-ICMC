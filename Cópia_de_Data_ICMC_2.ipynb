{
  "nbformat": 4,
  "nbformat_minor": 0,
  "metadata": {
    "colab": {
      "provenance": [],
      "mount_file_id": "1x6CI6XkugTbNP_1DFA1_UmQJ5cbg50Rs",
      "authorship_tag": "ABX9TyPkSqwo6s8nlsFjz5xG30zh",
      "include_colab_link": true
    },
    "kernelspec": {
      "name": "python3",
      "display_name": "Python 3"
    },
    "language_info": {
      "name": "python"
    }
  },
  "cells": [
    {
      "cell_type": "markdown",
      "metadata": {
        "id": "view-in-github",
        "colab_type": "text"
      },
      "source": [
        "<a href=\"https://colab.research.google.com/github/Dormundo/Teste-Data-ICMC/blob/master/C%C3%B3pia_de_Data_ICMC_2.ipynb\" target=\"_parent\"><img src=\"https://colab.research.google.com/assets/colab-badge.svg\" alt=\"Open In Colab\"/></a>"
      ]
    },
    {
      "cell_type": "code",
      "execution_count": null,
      "metadata": {
        "id": "7RjHRzKYybpR"
      },
      "outputs": [],
      "source": [
        "import pandas as pd\n",
        "from sklearn.model_selection import train_test_split, cross_val_score\n",
        "from sklearn.svm import SVC\n",
        "from sklearn.linear_model import LinearRegression\n",
        "from sklearn.metrics import accuracy_score, mean_squared_error, classification_report\n",
        "from sklearn.preprocessing import LabelEncoder\n",
        "\n",
        "class Modelo:\n",
        "    def __init__(self):\n",
        "        self.df = None\n",
        "        self.model = None\n",
        "        self.X_test = None\n",
        "        self.y_test = None\n",
        "\n",
        "    def CarregarDataset(self, path):\n",
        "        \"\"\"\n",
        "        Carrega o conjunto de dados a partir de um arquivo CSV.\n",
        "        \"\"\"\n",
        "        colunas = ['SepalLengthCm', 'SepalWidthCm', 'PetalLengthCm', 'PetalWidthCm', 'Species']\n",
        "        self.df = pd.read_csv(path, names=colunas)\n",
        "        print(\"Dataset carregado com sucesso!\")\n",
        "        print(self.df.head())\n",
        "\n",
        "    def TratamentoDeDados(self):\n",
        "        \"\"\"\n",
        "        Realiza o pré-processamento dos dados carregados.\n",
        "        \"\"\"\n",
        "        # Exibe as primeiras linhas do dataset\n",
        "        print(\"\\nVisualizando os dados iniciais:\")\n",
        "        print(self.df.head())\n",
        "\n",
        "        # Tratar valores ausentes\n",
        "        if self.df.isnull().values.any():\n",
        "            print(\"Tratando valores ausentes.\")\n",
        "            self.df.fillna(self.df.mean(numeric_only=True), inplace=True)\n",
        "\n",
        "        # Codifica a coluna 'Species' para valores numéricos, se existir\n",
        "        if 'Species' in self.df.columns:\n",
        "            label_encoder = LabelEncoder()\n",
        "            self.df['Species'] = label_encoder.fit_transform(self.df['Species'])\n",
        "            self.label_encoder = label_encoder\n",
        "\n",
        "        # Define features (X) e rótulo (y)\n",
        "        self.X = self.df[['SepalLengthCm', 'SepalWidthCm', 'PetalLengthCm', 'PetalWidthCm']]\n",
        "        self.y = self.df['Species']\n",
        "\n",
        "    def Treinamento(self, modelo_escolhido=\"SVC\"):\n",
        "        \"\"\"\n",
        "        Treina o modelo de machine learning.\n",
        "        \"\"\"\n",
        "        # Divide os dados em conjuntos de treino e teste\n",
        "        X_train, X_test, y_train, y_test = train_test_split(self.X, self.y, test_size=0.2, random_state=42)\n",
        "\n",
        "        # Escolha e treinamento do modelo\n",
        "        if modelo_escolhido == \"SVC\":\n",
        "            self.model = SVC(kernel='linear')\n",
        "        elif modelo_escolhido == \"LinearRegression\":\n",
        "            self.model = LinearRegression()\n",
        "        else:\n",
        "            raise ValueError(\"Modelo não suportado. Escolha 'SVC' ou 'LinearRegression'.\")\n",
        "\n",
        "        self.model.fit(X_train, y_train)\n",
        "        print(f\"Modelo {modelo_escolhido} treinado com sucesso.\")\n",
        "\n",
        "        # Validação cruzada para SVC\n",
        "        if modelo_escolhido == \"SVC\":\n",
        "            scores = cross_val_score(self.model, X_train, y_train, cv=5)\n",
        "            print(f\"Acurácia média na validação cruzada: {scores.mean():.2f}\")\n",
        "\n",
        "        # Guarda o conjunto de teste para avaliação\n",
        "        self.X_test, self.y_test = X_test, y_test\n",
        "\n",
        "    def Teste(self):\n",
        "        \"\"\"\n",
        "        Avalia o desempenho do modelo treinado nos dados de teste.\n",
        "        \"\"\"\n",
        "        y_pred = self.model.predict(self.X_test)\n",
        "\n",
        "        if isinstance(self.model, SVC):\n",
        "            accuracy = accuracy_score(self.y_test, y_pred)\n",
        "            print(f\"Acurácia do modelo SVC: {accuracy:.2f}\")\n",
        "            print(\"\\nRelatório de Classificação:\\n\", classification_report(self.y_test, y_pred, target_names=self.label_encoder.classes_))\n",
        "\n",
        "        elif isinstance(self.model, LinearRegression):\n",
        "            mse = mean_squared_error(self.y_test, y_pred)\n",
        "            print(f\"Erro Médio Quadrático (MSE) da Regressão Linear: {mse:.2f}\")\n",
        "\n",
        "    def Train(self, path=\"iris.data\", modelo_escolhido=\"SVC\"):\n",
        "        \"\"\"\n",
        "        Função principal para o fluxo de treinamento do modelo.\n",
        "        \"\"\"\n",
        "        self.CarregarDataset(path)\n",
        "        self.TratamentoDeDados()\n",
        "        self.Treinamento(modelo_escolhido)\n",
        "        self.Teste()\n",
        "\n",
        "\n"
      ]
    },
    {
      "cell_type": "code",
      "source": [
        "# Exemplo de uso:\n",
        "modelo = Modelo()\n",
        "modelo.Train(path=\"/content/drive/MyDrive/python usp/iris.data\", modelo_escolhido=\"SVC\")  # Altere para \"LinearRegression\" se quiser comparar"
      ],
      "metadata": {
        "colab": {
          "base_uri": "https://localhost:8080/"
        },
        "id": "N0qAETm306Pc",
        "outputId": "a894743b-373e-4b57-eb2b-e3eda1c19fe7"
      },
      "execution_count": null,
      "outputs": [
        {
          "output_type": "stream",
          "name": "stdout",
          "text": [
            "Dataset carregado com sucesso!\n",
            "   SepalLengthCm  SepalWidthCm  PetalLengthCm  PetalWidthCm      Species\n",
            "0            5.1           3.5            1.4           0.2  Iris-setosa\n",
            "1            4.9           3.0            1.4           0.2  Iris-setosa\n",
            "2            4.7           3.2            1.3           0.2  Iris-setosa\n",
            "3            4.6           3.1            1.5           0.2  Iris-setosa\n",
            "4            5.0           3.6            1.4           0.2  Iris-setosa\n",
            "\n",
            "Visualizando os dados iniciais:\n",
            "   SepalLengthCm  SepalWidthCm  PetalLengthCm  PetalWidthCm      Species\n",
            "0            5.1           3.5            1.4           0.2  Iris-setosa\n",
            "1            4.9           3.0            1.4           0.2  Iris-setosa\n",
            "2            4.7           3.2            1.3           0.2  Iris-setosa\n",
            "3            4.6           3.1            1.5           0.2  Iris-setosa\n",
            "4            5.0           3.6            1.4           0.2  Iris-setosa\n",
            "Modelo SVC treinado com sucesso.\n",
            "Acurácia média na validação cruzada: 0.96\n",
            "Acurácia do modelo SVC: 1.00\n",
            "\n",
            "Relatório de Classificação:\n",
            "                  precision    recall  f1-score   support\n",
            "\n",
            "    Iris-setosa       1.00      1.00      1.00        10\n",
            "Iris-versicolor       1.00      1.00      1.00         9\n",
            " Iris-virginica       1.00      1.00      1.00        11\n",
            "\n",
            "       accuracy                           1.00        30\n",
            "      macro avg       1.00      1.00      1.00        30\n",
            "   weighted avg       1.00      1.00      1.00        30\n",
            "\n"
          ]
        }
      ]
    }
  ]
}