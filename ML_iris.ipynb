{
  "nbformat": 4,
  "nbformat_minor": 0,
  "metadata": {
    "colab": {
      "provenance": [],
      "authorship_tag": "ABX9TyPVr4+DMKJeyEtkrQckiqBd",
      "include_colab_link": true
    },
    "kernelspec": {
      "name": "python3",
      "display_name": "Python 3"
    },
    "language_info": {
      "name": "python"
    }
  },
  "cells": [
    {
      "cell_type": "markdown",
      "metadata": {
        "id": "view-in-github",
        "colab_type": "text"
      },
      "source": [
        "<a href=\"https://colab.research.google.com/github/Dormundo/Teste-Data-ICMC/blob/master/ML_iris.ipynb\" target=\"_parent\"><img src=\"https://colab.research.google.com/assets/colab-badge.svg\" alt=\"Open In Colab\"/></a>"
      ]
    },
    {
      "cell_type": "code",
      "execution_count": 5,
      "metadata": {
        "id": "i4Wz1qKsBpGL"
      },
      "outputs": [],
      "source": [
        "import pandas as pd\n",
        "from sklearn.model_selection import train_test_split\n",
        "from sklearn.svm import SVC\n",
        "from sklearn.preprocessing import StandardScaler\n",
        "from sklearn.metrics import accuracy_score, classification_report, confusion_matrix\n",
        "\n",
        "class ProcessoML:\n",
        "    def __init__(self, pergunta, path_dados):\n",
        "        \"\"\"\n",
        "        Inicializa o processo de Machine Learning com uma pergunta e um caminho para o dataset.\n",
        "        \"\"\"\n",
        "        self.pergunta = pergunta\n",
        "        self.path_dados = path_dados\n",
        "        self.df = None\n",
        "        self.model = None\n",
        "        self.X_train, self.X_test, self.y_train, self.y_test = None, None, None, None\n",
        "        self.scaler = None\n",
        "        print(f\"Pergunta inicial: {self.pergunta}\")\n",
        "\n",
        "    def coletar_dados(self):\n",
        "        \"\"\"\n",
        "        Carrega os dados do dataset.\n",
        "        \"\"\"\n",
        "        print(\"\\nColetando dados...\")\n",
        "        self.df = pd.read_csv(self.path_dados)\n",
        "        print(\"Dados carregados com sucesso!\")\n",
        "        print(self.df.head())\n",
        "\n",
        "    def limpar_dados(self):\n",
        "        \"\"\"\n",
        "        Limpa os dados tratando valores ausentes e outros problemas.\n",
        "        \"\"\"\n",
        "        print(\"\\nLimpando dados...\")\n",
        "        if self.df.isnull().values.any():\n",
        "            self.df.fillna(self.df.mean(numeric_only=True), inplace=True)\n",
        "        print(\"Dados limpos com sucesso!\")\n",
        "\n",
        "    def criar_atributos(self):\n",
        "        \"\"\"\n",
        "        Define os atributos e o alvo.\n",
        "        \"\"\"\n",
        "        print(\"\\nCriando atributos...\")\n",
        "        self.X = self.df.iloc[:, :-1]  # Todas as colunas menos a última\n",
        "        self.y = self.df.iloc[:, -1]   # Última coluna como variável alvo\n",
        "        print(\"Atributos criados.\")\n",
        "\n",
        "    def normalizar_dados(self):\n",
        "        \"\"\"\n",
        "        Normaliza os dados para melhorar o desempenho do modelo.\n",
        "        \"\"\"\n",
        "        print(\"\\nNormalizando dados...\")\n",
        "        self.scaler = StandardScaler()\n",
        "        self.X = self.scaler.fit_transform(self.X)\n",
        "        print(\"Dados normalizados.\")\n",
        "\n",
        "    def dividir_amostras(self):\n",
        "        \"\"\"\n",
        "        Divide os dados em conjuntos de treino e teste.\n",
        "        \"\"\"\n",
        "        print(\"\\nDividindo dados em treino e teste...\")\n",
        "        self.X_train, self.X_test, self.y_train, self.y_test = train_test_split(self.X, self.y, test_size=0.2, random_state=42)\n",
        "        print(\"Divisão concluída.\")\n",
        "\n",
        "    def criar_modelo(self):\n",
        "        \"\"\"\n",
        "        Cria e treina o modelo.\n",
        "        \"\"\"\n",
        "        print(\"\\nCriando o modelo...\")\n",
        "        self.model = SVC(kernel='linear')\n",
        "        self.model.fit(self.X_train, self.y_train)\n",
        "        print(\"Modelo treinado.\")\n",
        "\n",
        "    def avaliar_modelo(self):\n",
        "        \"\"\"\n",
        "        Avalia o desempenho do modelo usando o conjunto de teste.\n",
        "        \"\"\"\n",
        "        print(\"\\nAvaliando o modelo...\")\n",
        "        y_pred = self.model.predict(self.X_test)\n",
        "        accuracy = accuracy_score(self.y_test, y_pred)\n",
        "        print(f\"Acurácia do modelo: {accuracy:.2f}\")\n",
        "        print(\"\\nRelatório de classificação:\")\n",
        "        print(classification_report(self.y_test, y_pred))\n",
        "        print(\"Matriz de Confusão:\\n\", confusion_matrix(self.y_test, y_pred))\n",
        "\n",
        "        # Retorna True se a acurácia for satisfatória, caso contrário, False\n",
        "        return accuracy > 0.7\n",
        "\n",
        "    def implantar_modelo(self):\n",
        "        \"\"\"\n",
        "        Implanta o modelo, neste caso apenas simula a implantação com uma mensagem.\n",
        "        \"\"\"\n",
        "        print(\"\\nImplantando o modelo...\")\n",
        "        print(\"Modelo implantado com sucesso!\")\n",
        "\n",
        "    def mudar_pergunta(self, nova_pergunta):\n",
        "        \"\"\"\n",
        "        Muda a pergunta e reinicia o processo.\n",
        "        \"\"\"\n",
        "        print(\"\\nMudando a pergunta...\")\n",
        "        self.pergunta = nova_pergunta\n",
        "        print(f\"Nova pergunta: {self.pergunta}\")\n",
        "        self.executar()\n",
        "\n",
        "    def executar(self):\n",
        "        \"\"\"\n",
        "        Executa todo o processo de Machine Learning.\n",
        "        \"\"\"\n",
        "        print(\"\\nIniciando o processo de Machine Learning...\")\n",
        "        self.coletar_dados()\n",
        "        self.limpar_dados()\n",
        "        self.criar_atributos()\n",
        "        self.normalizar_dados()\n",
        "        self.dividir_amostras()\n",
        "        self.criar_modelo()\n",
        "        if self.avaliar_modelo():\n",
        "            self.implantar_modelo()\n",
        "        else:\n",
        "            self.mudar_pergunta(\"Como posso melhorar a acurácia do modelo?\")\n",
        "\n",
        "\n"
      ]
    },
    {
      "cell_type": "code",
      "source": [
        "from google.colab import drive\n",
        "drive.mount('/content/drive')"
      ],
      "metadata": {
        "colab": {
          "base_uri": "https://localhost:8080/"
        },
        "id": "Y_A9mPq1B5j3",
        "outputId": "b4500c72-34ea-4cf9-c296-76d968d370e3"
      },
      "execution_count": 3,
      "outputs": [
        {
          "output_type": "stream",
          "name": "stdout",
          "text": [
            "Mounted at /content/drive\n"
          ]
        }
      ]
    },
    {
      "cell_type": "code",
      "source": [
        "# Exemplo de uso\n",
        "caminho_dataset = \"/content/drive/MyDrive/python usp/iris.data\"\n",
        "processo_ml = ProcessoML(pergunta=\"Qual é a espécie da flor com base nas medidas?\", path_dados=caminho_dataset)\n",
        "processo_ml.executar()"
      ],
      "metadata": {
        "colab": {
          "base_uri": "https://localhost:8080/"
        },
        "id": "gB6tRc55CB_k",
        "outputId": "c1339146-fb02-4fd2-b804-f6ac64ded2e6"
      },
      "execution_count": 4,
      "outputs": [
        {
          "output_type": "stream",
          "name": "stdout",
          "text": [
            "Pergunta inicial: Qual é a espécie da flor com base nas medidas?\n",
            "\n",
            "Iniciando o processo de Machine Learning...\n",
            "\n",
            "Coletando dados...\n",
            "Dados carregados com sucesso!\n",
            "   5.1  3.5  1.4  0.2  Iris-setosa\n",
            "0  4.9  3.0  1.4  0.2  Iris-setosa\n",
            "1  4.7  3.2  1.3  0.2  Iris-setosa\n",
            "2  4.6  3.1  1.5  0.2  Iris-setosa\n",
            "3  5.0  3.6  1.4  0.2  Iris-setosa\n",
            "4  5.4  3.9  1.7  0.4  Iris-setosa\n",
            "\n",
            "Limpando dados...\n",
            "Dados limpos com sucesso!\n",
            "\n",
            "Criando atributos...\n",
            "Atributos criados.\n",
            "\n",
            "Normalizando dados...\n",
            "Dados normalizados.\n",
            "\n",
            "Dividindo dados em treino e teste...\n",
            "Divisão concluída.\n",
            "\n",
            "Criando o modelo...\n",
            "Modelo treinado.\n",
            "\n",
            "Avaliando o modelo...\n",
            "Acurácia do modelo: 0.93\n",
            "\n",
            "Relatório de classificação:\n",
            "                 precision    recall  f1-score   support\n",
            "\n",
            "    Iris-setosa       1.00      1.00      1.00        10\n",
            "Iris-versicolor       1.00      0.78      0.88         9\n",
            " Iris-virginica       0.85      1.00      0.92        11\n",
            "\n",
            "       accuracy                           0.93        30\n",
            "      macro avg       0.95      0.93      0.93        30\n",
            "   weighted avg       0.94      0.93      0.93        30\n",
            "\n",
            "Matriz de Confusão:\n",
            " [[10  0  0]\n",
            " [ 0  7  2]\n",
            " [ 0  0 11]]\n",
            "\n",
            "Implantando o modelo...\n",
            "Modelo implantado com sucesso!\n"
          ]
        }
      ]
    }
  ]
}