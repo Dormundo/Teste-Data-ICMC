{
  "nbformat": 4,
  "nbformat_minor": 0,
  "metadata": {
    "colab": {
      "provenance": [],
      "mount_file_id": "1ANBkfXQAVKe130Q-raYqc0s__5RTdH3q",
      "authorship_tag": "ABX9TyMXNNKO6fgLiDfubsoRAP1C",
      "include_colab_link": true
    },
    "kernelspec": {
      "name": "python3",
      "display_name": "Python 3"
    },
    "language_info": {
      "name": "python"
    }
  },
  "cells": [
    {
      "cell_type": "markdown",
      "metadata": {
        "id": "view-in-github",
        "colab_type": "text"
      },
      "source": [
        "<a href=\"https://colab.research.google.com/github/Dormundo/Teste-Data-ICMC/blob/master/modelo_01.ipynb\" target=\"_parent\"><img src=\"https://colab.research.google.com/assets/colab-badge.svg\" alt=\"Open In Colab\"/></a>"
      ]
    },
    {
      "cell_type": "code",
      "execution_count": 8,
      "metadata": {
        "id": "lmR8MQ_gMtE5"
      },
      "outputs": [],
      "source": [
        "import pandas as pd\n",
        "from sklearn.model_selection import train_test_split, cross_val_score\n",
        "from sklearn.svm import SVC\n",
        "from sklearn.linear_model import LinearRegression\n",
        "from sklearn.metrics import accuracy_score, mean_squared_error, classification_report, confusion_matrix\n",
        "from sklearn.preprocessing import LabelEncoder\n",
        "import matplotlib.pyplot as plt\n",
        "\n",
        "class Modelo:\n",
        "    def __init__(self):\n",
        "        self.df = None\n",
        "        self.model = None\n",
        "        self.X_test = None\n",
        "        self.y_test = None\n",
        "\n",
        "    def CarregarDataset(self, path):\n",
        "        \"\"\"\n",
        "        Carrega o conjunto de dados Iris a partir de um arquivo CSV.\n",
        "        \"\"\"\n",
        "        colunas = ['SepalLengthCm', 'SepalWidthCm', 'PetalLengthCm', 'PetalWidthCm', 'Species']\n",
        "        self.df = pd.read_csv(path, names=colunas)\n",
        "        print(\"Dataset carregado com sucesso!\")\n",
        "        print(self.df.head())\n",
        "\n",
        "    def TratamentoDeDados(self):\n",
        "        \"\"\"\n",
        "        Realiza o pré-processamento dos dados carregados.\n",
        "        \"\"\"\n",
        "        # Visualizar o início do dataset\n",
        "        #print(\"\\nVisualizando os dados iniciais:\")\n",
        "        #print(self.df.head())\n",
        "\n",
        "        # Verificar e tratar valores ausentes\n",
        "        if self.df.isnull().values.any():\n",
        "            print(\"Tratando valores ausentes.\")\n",
        "            self.df.fillna(self.df.mean(numeric_only=True), inplace=True)\n",
        "\n",
        "        # Codificar a coluna 'Species' para valores numéricos\n",
        "        label_encoder = LabelEncoder()\n",
        "        self.df['Species'] = label_encoder.fit_transform(self.df['Species'])\n",
        "        self.label_encoder = label_encoder  # Guarda o codificador para decodificação posterior\n",
        "\n",
        "        # Definir as features (X) e o rótulo (y)\n",
        "        self.X = self.df[['SepalLengthCm', 'SepalWidthCm', 'PetalLengthCm', 'PetalWidthCm']]\n",
        "        self.y = self.df['Species']\n",
        "\n",
        "        # Gráfico de barras para as três espécies\n",
        "        self.AnalisarDados()\n",
        "\n",
        "    def AnalisarDados(self):\n",
        "        \"\"\"\n",
        "        Gera um gráfico de barras comparando as médias das dimensões das flores para cada espécie.\n",
        "        \"\"\"\n",
        "        species_means = self.df.groupby('Species').mean()\n",
        "        species_names = self.label_encoder.inverse_transform(species_means.index)\n",
        "\n",
        "        # Plot\n",
        "        species_means.plot(kind='bar', figsize=(10, 6))\n",
        "        plt.title(\"Médias das Dimensões para Cada Espécie de Flor\")\n",
        "        plt.xlabel(\"Espécie\")\n",
        "        plt.ylabel(\"Dimensão (cm)\")\n",
        "        plt.xticks(ticks=range(len(species_names)), labels=species_names, rotation=0)\n",
        "        plt.legend(loc=\"upper right\")\n",
        "        plt.show()\n",
        "\n",
        "    def Treinamento(self, modelo_escolhido=\"SVC\"):\n",
        "        \"\"\"\n",
        "        Treina o modelo de machine learning.\n",
        "        \"\"\"\n",
        "        # Dividir o dataset em conjuntos de treino e teste\n",
        "        X_train, X_test, y_train, y_test = train_test_split(self.X, self.y, test_size=0.2, random_state=42)\n",
        "\n",
        "        # Escolha do modelo\n",
        "        if modelo_escolhido == \"SVC\":\n",
        "            self.model = SVC(kernel='linear')\n",
        "        elif modelo_escolhido == \"LinearRegression\":\n",
        "            self.model = LinearRegression()\n",
        "        else:\n",
        "            raise ValueError(\"Modelo não suportado. Escolha 'SVC' ou 'LinearRegression'.\")\n",
        "\n",
        "        # Treinar o modelo\n",
        "        self.model.fit(X_train, y_train)\n",
        "        print(f\"Modelo {modelo_escolhido} treinado com sucesso.\")\n",
        "\n",
        "        # Validação cruzada para SVC\n",
        "        if modelo_escolhido == \"SVC\":\n",
        "            scores = cross_val_score(self.model, X_train, y_train, cv=5)\n",
        "            print(f\"Acurácia média na validação cruzada ({modelo_escolhido}): {scores.mean():.2f}\")\n",
        "\n",
        "        # Guarda o conjunto de teste para avaliação posterior\n",
        "        self.X_test, self.y_test = X_test, y_test\n",
        "\n",
        "    def Teste(self):\n",
        "        \"\"\"\n",
        "        Avalia o desempenho do modelo treinado nos dados de teste.\n",
        "        \"\"\"\n",
        "        y_pred = self.model.predict(self.X_test)\n",
        "\n",
        "        # Avaliar as métricas do modelo\n",
        "        if isinstance(self.model, SVC):\n",
        "            accuracy = accuracy_score(self.y_test, y_pred)\n",
        "            print(f\"Acurácia do modelo SVC: {accuracy:.2f}\")\n",
        "            print(\"\\nRelatório de Classificação:\\n\", classification_report(self.y_test, y_pred, target_names=self.label_encoder.classes_))\n",
        "            print(\"Matriz de Confusão:\\n\", confusion_matrix(self.y_test, y_pred))\n",
        "\n",
        "        elif isinstance(self.model, LinearRegression):\n",
        "            mse = mean_squared_error(self.y_test, y_pred)\n",
        "            print(f\"Erro Médio Quadrático (MSE) da Regressão Linear: {mse:.2f}\")\n",
        "\n",
        "    def Train(self, path=\"iris.data\", modelo_escolhido=\"SVC\"):\n",
        "        \"\"\"\n",
        "        Função principal para o fluxo de treinamento e avaliação do modelo.\n",
        "        \"\"\"\n",
        "        print(f\"\\nTreinando o modelo {modelo_escolhido}...\")\n",
        "        self.CarregarDataset(path)\n",
        "        self.TratamentoDeDados()\n",
        "        self.Treinamento(modelo_escolhido)\n",
        "        self.Teste()\n",
        "\n"
      ]
    },
    {
      "cell_type": "code",
      "source": [
        "# Exemplo de uso:\n",
        "# Defina o caminho para o dataset Iris\n",
        "caminho_dataset = \"/content/drive/MyDrive/python usp/iris.data\"\n",
        "\n",
        "# Instancie e treine o modelo SVC\n",
        "modelo_svc = Modelo()\n",
        "modelo_svc.Train(path=caminho_dataset, modelo_escolhido=\"SVC\")\n",
        "\n",
        "# Instancie e treine o modelo de Regressão Linear\n",
        "#modelo_lr = Modelo()\n",
        "#modelo_lr.Train(path=caminho_dataset, modelo_escolhido=\"LinearRegression\")\n"
      ],
      "metadata": {
        "colab": {
          "base_uri": "https://localhost:8080/",
          "height": 1000
        },
        "collapsed": true,
        "id": "FYN8CtmTNdmI",
        "outputId": "a991409a-69e1-4882-ba63-108c3b00844e"
      },
      "execution_count": 10,
      "outputs": [
        {
          "output_type": "stream",
          "name": "stdout",
          "text": [
            "\n",
            "Treinando o modelo SVC...\n",
            "Dataset carregado com sucesso!\n",
            "   SepalLengthCm  SepalWidthCm  PetalLengthCm  PetalWidthCm      Species\n",
            "0            5.1           3.5            1.4           0.2  Iris-setosa\n",
            "1            4.9           3.0            1.4           0.2  Iris-setosa\n",
            "2            4.7           3.2            1.3           0.2  Iris-setosa\n",
            "3            4.6           3.1            1.5           0.2  Iris-setosa\n",
            "4            5.0           3.6            1.4           0.2  Iris-setosa\n"
          ]
        },
        {
          "output_type": "display_data",
          "data": {
            "text/plain": [
              "<Figure size 1000x600 with 1 Axes>"
            ],
            "image/png": "[encoded data removed]"
          },
          "metadata": {}
        },
        {
          "output_type": "stream",
          "name": "stdout",
          "text": [
            "Modelo SVC treinado com sucesso.\n",
            "Acurácia média na validação cruzada (SVC): 0.96\n",
            "Acurácia do modelo SVC: 1.00\n",
            "\n",
            "Relatório de Classificação:\n",
            "                  precision    recall  f1-score   support\n",
            "\n",
            "    Iris-setosa       1.00      1.00      1.00        10\n",
            "Iris-versicolor       1.00      1.00      1.00         9\n",
            " Iris-virginica       1.00      1.00      1.00        11\n",
            "\n",
            "       accuracy                           1.00        30\n",
            "      macro avg       1.00      1.00      1.00        30\n",
            "   weighted avg       1.00      1.00      1.00        30\n",
            "\n",
            "Matriz de Confusão:\n",
            " [[10  0  0]\n",
            " [ 0  9  0]\n",
            " [ 0  0 11]]\n"
          ]
        }
      ]
    }
  ]
}